{
 "cells": [
  {
   "cell_type": "markdown",
   "id": "78a32c4d",
   "metadata": {},
   "source": [
    "# The problem Statement"
   ]
  },
  {
   "cell_type": "markdown",
   "id": "93a1cbcf",
   "metadata": {},
   "source": [
    "#### Prints each word in reverse.\n",
    "#### Prints Top 2 occurring words in sorted order. The words that have occurred most of the time  "
   ]
  },
  {
   "cell_type": "code",
   "execution_count": 6,
   "id": "e1fd161a",
   "metadata": {},
   "outputs": [],
   "source": [
    "from statistics import mode"
   ]
  },
  {
   "cell_type": "code",
   "execution_count": 8,
   "id": "34a5b48e",
   "metadata": {},
   "outputs": [
    {
     "name": "stdout",
     "output_type": "stream",
     "text": [
      "This declaration represents a political commitment among declaration partners to advance a positive vision for the Internet in this era of a united europe\n",
      "\n",
      "Word in reverse:\n",
      "\n",
      "Europe united a of era this in internet the for vision positive a advance to partners declaration among commitment political a represents declaration this\n",
      "\n",
      "Top Two Occurring Words:\n",
      "\n",
      "a : 3 times\n",
      "this : 2 times\n"
     ]
    }
   ],
   "source": [
    "Sample_input = input().lower().split(' ')\n",
    "Sample_input.reverse()\n",
    "Sample_input[0] = Sample_input[0].capitalize()\n",
    "print()\n",
    "print('Word in reverse:')\n",
    "print()\n",
    "print(*Sample_input)\n",
    "print()\n",
    "print('Top Two Occurring Words:')\n",
    "print()\n",
    "temp = [word for sub in Sample_input for word in sub.split()]\n",
    "print(mode(temp),':',str(Sample_input.count(mode(temp))),'times')\n",
    "temp = [i for i in temp if i != mode(temp)]\n",
    "print(mode(temp),':',str(Sample_input.count(mode(temp))),'times')"
   ]
  },
  {
   "cell_type": "markdown",
   "id": "ba11cb4d",
   "metadata": {},
   "source": [
    "# Assignment Using SQL  "
   ]
  },
  {
   "cell_type": "markdown",
   "id": "57657edc",
   "metadata": {},
   "source": [
    "# ASSIGNMENT-01SQL"
   ]
  },
  {
   "cell_type": "code",
   "execution_count": null,
   "id": "3c21ac8a",
   "metadata": {},
   "outputs": [],
   "source": [
    "CREATE DATABASE Grocery_shop\n",
    "use  Grocery_shop\n",
    "CREATE TABLE sales_detail(Cat_Id INT,Product_Id INT,Trending INT)\n",
    "INSERT INTO sales_detail VALUES\n",
    "('1' ,'100','1'),\n",
    "('1' ,'100','2'),\n",
    "('1' ,'100','1'),\n",
    "('1' ,'100','2'),\n",
    "('1' ,'200','1'),\n",
    "('1' ,'200','2'),\n",
    "('2' ,'300','1'),\n",
    "('2','300','2'),\n",
    "('2' ,'300','1'),\n",
    "('2' ,'301','2'),\n",
    "('3' ,'401','1'),\n",
    "('3' ,'402','2'),\n",
    "('3' ,'403','1')\n",
    "SELECT * FROM sales_detail  \n",
    "ORDER BY Cat_Id DESC"
   ]
  },
  {
   "cell_type": "markdown",
   "id": "77181c3d",
   "metadata": {},
   "source": [
    "# ASSIGNMENT-02SQL "
   ]
  },
  {
   "cell_type": "code",
   "execution_count": null,
   "id": "a18196ae",
   "metadata": {},
   "outputs": [],
   "source": [
    "CREATE DATABASE Voucher\n",
    "use Voucher\n",
    "CREATE TABLE Customer(Customer_Id varchar(255) );\n",
    "INSERT INTO Customer VALUES ('Abhinash'),('Vipin'),('Mahesh'),('Bijoy'),('Bhabani'),('Ashutosh')\n",
    "CREATE TABLE Voucher (Voucher_Id varchar(255) UNIQUE);\n",
    "INSERT INTO Voucher VALUES('ABXFH'),('SDFGH'),('ERTYY'),('PPLKM');\n",
    "with cte as(select *,row_number() over(order by Customer_Id) rr from Customers1),\n",
    "cte2 as(select *,row_number() over(order by Voucher_Id) rr from Voucher)\n",
    "    \n",
    "select Customer_Id Customer_Key,Voucher_Id Gift_Voucher_Key\n",
    "from cte c1\n",
    "join cte2 c2 on c1.rr=c2.rr"
   ]
  },
  {
   "cell_type": "code",
   "execution_count": null,
   "id": "96d55879",
   "metadata": {},
   "outputs": [],
   "source": []
  }
 ],
 "metadata": {
  "kernelspec": {
   "display_name": "Python 3 (ipykernel)",
   "language": "python",
   "name": "python3"
  },
  "language_info": {
   "codemirror_mode": {
    "name": "ipython",
    "version": 3
   },
   "file_extension": ".py",
   "mimetype": "text/x-python",
   "name": "python",
   "nbconvert_exporter": "python",
   "pygments_lexer": "ipython3",
   "version": "3.9.7"
  }
 },
 "nbformat": 4,
 "nbformat_minor": 5
}
