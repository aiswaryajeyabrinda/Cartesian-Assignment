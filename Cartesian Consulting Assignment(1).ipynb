{
 "cells": [
  {
   "cell_type": "markdown",
   "id": "2e70e68e",
   "metadata": {},
   "source": [
    "# Assignment Using Unix Shell Programming"
   ]
  },
  {
   "cell_type": "markdown",
   "id": "f993e3c1",
   "metadata": {},
   "source": [
    "# Assignment-01UNIX"
   ]
  },
  {
   "cell_type": "code",
   "execution_count": null,
   "id": "62182041",
   "metadata": {},
   "outputs": [],
   "source": [
    "file=$1\n",
    "extract=$(cat $file | tail -n +2 | cut -d ',' -f3 | uniq)\n",
    "for d in $extract\n",
    "do\n",
    "    $ d=$(echo $d | tr ' ' '\\n' | sort -nu)\n",
    "echo $d\n",
    "fi\n",
    "done\n",
    "exit 0"
   ]
  },
  {
   "cell_type": "markdown",
   "id": "eb49b9ab",
   "metadata": {},
   "source": [
    "# Assignment-02UNIX"
   ]
  },
  {
   "cell_type": "code",
   "execution_count": null,
   "id": "4644c1cb",
   "metadata": {},
   "outputs": [],
   "source": [
    "curr_month=$(date \"+%h%y\")\n",
    "file_pattern=\"purchase_history\"\n",
    "file_final=\"$file_pattern*$curr_month.txt\"\n",
    "merge_file_name=\"$file_pattern_$curr_monthAll.txt\"\n",
    "#pwd\n",
    "cd ./grocery\n",
    "#ls -lrt $file_final\n",
    "#pwd\n",
    "rm $merge_file_name\n",
    "touch $merge_file_name\n",
    "head -1 $file_final | tail -1 >> $merge_file_name\n",
    "tail -n +2 -q $file_final >> $merge_file_name\n",
    "cat $merge_file_name\n",
    "echo $merge_file_name\n",
    "exit 0"
   ]
  }
 ],
 "metadata": {
  "kernelspec": {
   "display_name": "Python 3 (ipykernel)",
   "language": "python",
   "name": "python3"
  },
  "language_info": {
   "codemirror_mode": {
    "name": "ipython",
    "version": 3
   },
   "file_extension": ".py",
   "mimetype": "text/x-python",
   "name": "python",
   "nbconvert_exporter": "python",
   "pygments_lexer": "ipython3",
   "version": "3.9.7"
  }
 },
 "nbformat": 4,
 "nbformat_minor": 5
}
